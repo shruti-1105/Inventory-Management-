{
 "cells": [
  {
   "cell_type": "code",
   "execution_count": 1,
   "id": "f830c3e8-ca9e-427d-a3b8-ccfa2d213ed4",
   "metadata": {},
   "outputs": [],
   "source": [
    "class Item:\n",
    "    def __init__(self, name, quantity, price):\n",
    "        self.name = name\n",
    "        self.quantity = quantity\n",
    "        self.price = price\n",
    "\n",
    "    def __str__(self):\n",
    "        return f\"Item: {self.name}, Quantity: {self.quantity}, Price: {self.price}\"\n"
   ]
  },
  {
   "cell_type": "code",
   "execution_count": 2,
   "id": "35592b15-3c81-4461-b58f-396b4b9e063a",
   "metadata": {},
   "outputs": [],
   "source": [
    "class Inventory:\n",
    "    def __init__(self):\n",
    "        self.items = {}\n",
    "\n",
    "    def add_item(self, name, quantity, price):\n",
    "        if name in self.items:\n",
    "            print(\"Item already exists. Use update_item to update the existing item.\")\n",
    "        else:\n",
    "            self.items[name] = Item(name, quantity, price)\n",
    "            print(f\"Item {name} added to inventory.\")\n",
    "\n",
    "    def update_item(self, name, quantity, price):\n",
    "        if name in self.items:\n",
    "            self.items[name].quantity = quantity\n",
    "            self.items[name].price = price\n",
    "            print(f\"Item {name} updated.\")\n",
    "        else:\n",
    "            print(\"Item not found in inventory. Use add_item to add the new item.\")\n",
    "\n",
    "    def display_inventory(self):\n",
    "        if not self.items:\n",
    "            print(\"Inventory is empty.\")\n",
    "        else:\n",
    "            for item in self.items.values():\n",
    "                print(item)\n",
    "\n",
    "    def remove_item(self, name):\n",
    "        if name in self.items:\n",
    "            del self.items[name]\n",
    "            print(f\"Item {name} removed from inventory.\")\n",
    "        else:\n",
    "            print(\"Item not found in inventory.\")\n"
   ]
  },
  {
   "cell_type": "code",
   "execution_count": null,
   "id": "377e1543-fefe-4ec4-bcf9-0299d58c695d",
   "metadata": {},
   "outputs": [
    {
     "name": "stdout",
     "output_type": "stream",
     "text": [
      "\n",
      "Inventory Management System\n",
      "1. Add Item\n",
      "2. Update Item\n",
      "3. Display Inventory\n",
      "4. Remove Item\n",
      "5. Exit\n"
     ]
    }
   ],
   "source": [
    "def main():\n",
    "    inventory = Inventory()\n",
    "\n",
    "    while True:\n",
    "        print(\"\\nInventory Management System\")\n",
    "        print(\"1. Add Item\")\n",
    "        print(\"2. Update Item\")\n",
    "        print(\"3. Display Inventory\")\n",
    "        print(\"4. Remove Item\")\n",
    "        print(\"5. Exit\")\n",
    "        \n",
    "        choice = input(\"Enter your choice: \")\n",
    "\n",
    "        if choice == '1':\n",
    "            name = input(\"Enter item name: \")\n",
    "            quantity = int(input(\"Enter item quantity: \"))\n",
    "            price = float(input(\"Enter item price: \"))\n",
    "            inventory.add_item(name, quantity, price)\n",
    "        \n",
    "        elif choice == '2':\n",
    "            name = input(\"Enter item name: \")\n",
    "            quantity = int(input(\"Enter item quantity: \"))\n",
    "            price = float(input(\"Enter item price: \"))\n",
    "            inventory.update_item(name, quantity, price)\n",
    "        \n",
    "        elif choice == '3':\n",
    "            inventory.display_inventory()\n",
    "        \n",
    "        elif choice == '4':\n",
    "            name = input(\"Enter item name to remove: \")\n",
    "            inventory.remove_item(name)\n",
    "        \n",
    "        elif choice == '5':\n",
    "            break\n",
    "        \n",
    "        else:\n",
    "            print(\"Invalid choice. Please try again.\")\n",
    "\n",
    "if __name__ == \"__main__\":\n",
    "    main()\n"
   ]
  },
  {
   "cell_type": "code",
   "execution_count": null,
   "id": "8e2ee673-5754-48a0-b32f-75558b727547",
   "metadata": {},
   "outputs": [],
   "source": []
  }
 ],
 "metadata": {
  "kernelspec": {
   "display_name": "Python 3 (ipykernel)",
   "language": "python",
   "name": "python3"
  },
  "language_info": {
   "codemirror_mode": {
    "name": "ipython",
    "version": 3
   },
   "file_extension": ".py",
   "mimetype": "text/x-python",
   "name": "python",
   "nbconvert_exporter": "python",
   "pygments_lexer": "ipython3",
   "version": "3.12.4"
  }
 },
 "nbformat": 4,
 "nbformat_minor": 5
}
